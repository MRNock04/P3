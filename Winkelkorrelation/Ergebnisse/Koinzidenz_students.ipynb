{
 "cells": [
  {
   "cell_type": "code",
   "execution_count": 1,
   "metadata": {},
   "outputs": [],
   "source": [
    "import struct\n",
    "import numpy as np\n",
    "import matplotlib.pyplot as plt\n",
    "import scipy.optimize as opt\n",
    "import os"
   ]
  },
  {
   "cell_type": "markdown",
   "metadata": {},
   "source": [
    "Read first waveform file (channel 0)"
   ]
  },
  {
   "cell_type": "code",
   "execution_count": 79,
   "metadata": {
    "scrolled": true
   },
   "outputs": [
    {
     "name": "stdout",
     "output_type": "stream",
     "text": [
      "wave0_co_0deg_2.dat\n",
      "wave1_co_90deg_2.dat\n",
      "wave0_bkg_45deg.dat\n",
      "wave0_co_45deg_2.dat\n",
      "wave1_bkg_45deg.dat\n",
      "wave0_co_90deg_1.dat\n",
      "wave0_co_90deg_4.dat\n",
      "wave0_co_45deg_1.dat\n",
      "wave1_co_45deg_2.dat\n",
      "wave0_co_90deg_3.dat\n",
      "wave1_co_45deg_3.dat\n",
      "wave1_co_0deg_3.dat\n",
      "wave1_na_0deg.dat\n",
      "wave1_co_0deg_4.dat\n",
      "wave0_co_0deg_4.dat\n",
      "wave0_co_45deg_3.dat\n",
      "wave1_co_45deg_1.dat\n",
      "wave1_co_0deg_1.dat\n",
      "wave1_co_90deg_3.dat\n",
      "wave1_co_90deg_4.dat\n",
      "wave0_co_45deg_4.dat\n",
      "wave0_co_0deg_1.dat\n",
      "wave0_bkg_0deg.dat\n",
      "wave1_bkg_0deg.dat\n",
      "wave1_co_45deg_4.dat\n",
      "wave1_co_90deg_1.dat\n",
      "wave1_co_0deg_2.dat\n",
      "wave0_co_0deg_3.dat\n",
      "wave0_co_90deg_2.dat\n",
      "wave0_na_0deg.dat\n"
     ]
    }
   ],
   "source": [
    "def read_data(infile):\n",
    "    with open(infile, 'rb') as f:\n",
    "        nevent = 0\n",
    "        notEOF = True\n",
    "        max_nevent = 1000000000\n",
    "        xList, eventList, tList, tDAQ, = [], [], [], []\n",
    "\n",
    "        print(infile)\n",
    "        \n",
    "        while notEOF and nevent < max_nevent:\n",
    "            # read header: record, boardID, channel, pattern, event, time_ns\n",
    "            s = f.read(24)\n",
    "            if len(s) != 24:\n",
    "                notEOF = False\n",
    "                break\n",
    "            record, boardID, channel, pattern, event, time_ns = struct.unpack(\"<LLLLLL\", s)\n",
    "            #print(record, boardID, channel, pattern, event, time_ns)\n",
    "\n",
    "            # read data: record = 24 (6*4Byte) header length \n",
    "            #                       + Byte length of the waveform event (16 bit per sample)\n",
    "            s = f.read(record-24)\n",
    "            if len(s) != (record-24):\n",
    "                notEOF = False\n",
    "                break\n",
    "            format = \"<\"+str(int((record-24)/2))+\"H\"\n",
    "            #print(format)\n",
    "            data = struct.unpack(format, s)\n",
    "\n",
    "            # determine the baseline signal (average of first 10 samples)\n",
    "            x0 = 0\n",
    "            for i in range(10):\n",
    "                x0 += data[i]\n",
    "            #x0 /= 10.\n",
    "\n",
    "            # find the maximum peak in the waveform event (sliding average of 10 samples)\n",
    "            imax = 0\n",
    "            xmax, xsum = 0., 0.\n",
    "            for i in range(10,int((record-24)/2)):\n",
    "                xsum = xsum + data[i-10] - data[i]\n",
    "                # xsum = data[i] - x0\n",
    "                if xmax < xsum:\n",
    "                    xmax = xsum\n",
    "                    imax = i\n",
    "            xList.append(xmax)\n",
    "            eventList.append(event)\n",
    "            tList.append(imax * 8)\n",
    "            tDAQ.append(time_ns * 8)\n",
    "            nevent = nevent + 1\n",
    "        \n",
    "        '''\n",
    "        nevent: Total number of events in this channel\n",
    "        xList: List with the signal amplitudes (generated from a sliding average)\n",
    "        eventList: List with event IDs\n",
    "        tList: List with the relative timestamps of the signal peaks within the trigger window\n",
    "        tDAQ: List with the absolute timestamps of the trigger windows within the whole DAQ period\n",
    "        '''\n",
    "        return nevent, xList, eventList, tList, tDAQ\n",
    "\n",
    "# Get list of files in current directory\n",
    "fileList = [x for x in os.listdir('.') if '.dat' in x]\n",
    "\n",
    "for file in fileList:\n",
    "    nevent0, xList0, eventList0, tList0,  tDAQ0 = read_data(file)\n",
    "    data_array_0 = np.transpose(np.array((xList0,eventList0,tList0,tDAQ0)))    \n",
    "    np.savetxt(file[0:-4]+\".csv\", data_array_0, delimiter=\", \", header=\"ADC counts, event no., timestamp, absolute time\")"
   ]
  },
  {
   "cell_type": "code",
   "execution_count": 68,
   "metadata": {},
   "outputs": [],
   "source": [
    "# wave0 files\n",
    "files0 = [\"wave0_bkg_0deg.csv\", \"wave0_bkg_45deg.csv\", \"wave0_na_0deg.csv\"]#, \"wave0_co_0deg_1.csv\"]\n",
    "# wave1 files\n",
    "files1 = [\"wave1_bkg_0deg.csv\", \"wave1_bkg_45deg.csv\", \"wave1_na_0deg.csv\"]#, \"wave1_co_0deg_1.csv\"]\n",
    "\n",
    "# erstelle Liste von Listen mit den 4 Einträgen der csv-Dateien, die oben konvertiert wurden, indem die Dateien\n",
    "# eingelesen und entpackt werden\n",
    "f0_unpacked = [[np.loadtxt(file, unpack=True, skiprows=1, delimiter=',')][0] for file in files0]\n",
    "f1_unpacked = [[np.loadtxt(file, unpack=True, skiprows=1, delimiter=',')][0] for file in files1]"
   ]
  },
  {
   "cell_type": "code",
   "execution_count": 69,
   "metadata": {},
   "outputs": [
    {
     "data": {
      "text/plain": [
       "array([5.0640e+04, 8.9310e+03, 2.9000e+01, ..., 4.7443e+04, 3.6090e+03,\n",
       "       6.0740e+03])"
      ]
     },
     "execution_count": 69,
     "metadata": {},
     "output_type": "execute_result"
    }
   ],
   "source": [
    "f0_unpacked[0][0]"
   ]
  },
  {
   "cell_type": "code",
   "execution_count": 3,
   "metadata": {},
   "outputs": [],
   "source": [
    "# f1 = \"wave0.csv\" #change the name accordingly\n",
    "# xList1, eventList1, tList1,  tDAQ1 = np.loadtxt(f1, unpack=True, skiprows=1, delimiter=',')"
   ]
  },
  {
   "cell_type": "markdown",
   "metadata": {},
   "source": [
    "Read second waveform file (channel 1)"
   ]
  },
  {
   "cell_type": "code",
   "execution_count": 4,
   "metadata": {},
   "outputs": [],
   "source": [
    "# f2 = \"wave1.csv\" #change the name accordingly\n",
    "# xList2, eventList2, tList2,  tDAQ2 = np.loadtxt(f2, unpack=True, skiprows=1, delimiter=',')"
   ]
  },
  {
   "cell_type": "markdown",
   "metadata": {},
   "source": [
    "### Plot histogram"
   ]
  },
  {
   "cell_type": "code",
   "execution_count": 73,
   "metadata": {},
   "outputs": [
    {
     "data": {
      "image/png": "[encoded data removed]",
      "text/plain": [
       "<Figure size 432x288 with 1 Axes>"
      ]
     },
     "metadata": {
      "needs_background": "light"
     },
     "output_type": "display_data"
    },
    {
     "data": {
      "image/png": "[encoded data removed]",
      "text/plain": [
       "<Figure size 432x288 with 1 Axes>"
      ]
     },
     "metadata": {
      "needs_background": "light"
     },
     "output_type": "display_data"
    },
    {
     "name": "stdout",
     "output_type": "stream",
     "text": [
      "[4.4258e+04 1.5800e+02 1.8300e+02 1.5600e+02 2.0200e+02 2.0500e+02\n",
      " 1.9100e+02 1.9500e+02 1.7600e+02 2.1400e+02 1.8900e+02 1.9200e+02\n",
      " 1.8800e+02 1.8100e+02 1.7600e+02 1.7600e+02 2.1400e+02 2.2700e+02\n",
      " 2.2400e+02 2.1400e+02 2.1600e+02 2.2900e+02 2.0600e+02 1.8900e+02\n",
      " 1.6500e+02 1.8500e+02 1.7400e+02 1.9400e+02 1.9200e+02 1.9900e+02\n",
      " 1.8600e+02 1.5700e+02 1.6700e+02 1.5500e+02 1.5500e+02 1.0700e+02\n",
      " 9.2000e+01 1.2100e+02 1.3500e+02 2.0700e+02 2.8700e+02 3.9800e+02\n",
      " 4.4000e+02 5.1700e+02 5.3500e+02 6.0500e+02 6.9700e+02 1.0490e+03\n",
      " 1.6820e+03 2.5590e+03 3.5210e+03 4.1650e+03 4.2710e+03 3.8120e+03\n",
      " 3.0250e+03 1.9530e+03 1.1770e+03 6.6200e+02 4.1600e+02 3.1000e+02\n",
      " 2.5300e+02 2.5300e+02 2.1900e+02 2.7200e+02 2.3700e+02 2.2400e+02\n",
      " 2.1600e+02 2.3000e+02 2.3900e+02 2.5800e+02 2.3900e+02 2.0900e+02\n",
      " 2.4500e+02 2.1000e+02 2.1800e+02 2.2600e+02 2.1500e+02 2.4700e+02\n",
      " 2.3300e+02 2.1000e+02 2.4000e+02 2.5200e+02 2.1800e+02 2.3100e+02\n",
      " 2.5100e+02 2.4900e+02 2.7100e+02 2.5000e+02 2.7700e+02 2.5500e+02\n",
      " 2.6200e+02 2.4900e+02 2.7800e+02 2.9300e+02 2.6700e+02 2.9500e+02\n",
      " 3.0600e+02 2.8700e+02 2.8900e+02 3.2500e+02 3.2700e+02 3.0500e+02\n",
      " 3.1000e+02 2.4000e+02 2.1200e+02 1.8700e+02 1.5600e+02 1.4000e+02\n",
      " 9.6000e+01 7.0000e+01 7.6000e+01 7.6000e+01 6.1000e+01 5.7000e+01\n",
      " 3.9000e+01 3.5000e+01 5.0000e+01 4.2000e+01 6.7000e+01 8.1000e+01\n",
      " 1.2900e+02 1.9000e+02 2.2700e+02 3.0400e+02 3.6800e+02 3.7400e+02\n",
      " 3.6100e+02 3.8600e+02 3.9500e+02 2.9800e+02 2.3700e+02 2.0700e+02\n",
      " 1.3900e+02 1.1300e+02 6.1000e+01 5.4000e+01 2.2000e+01 7.0000e+00\n",
      " 1.0000e+01 1.1000e+01 5.0000e+00 7.0000e+00 5.0000e+00 2.0000e+00\n",
      " 1.1000e+01 7.0000e+00 5.0000e+00 7.0000e+00 4.0000e+00 4.0000e+00\n",
      " 3.0000e+00 3.0000e+00 9.0000e+00 1.0000e+00 3.0000e+00 2.0000e+00\n",
      " 4.0000e+00 1.0000e+00 2.0000e+00 1.0000e+00 5.0000e+00 3.0000e+00\n",
      " 1.0000e+00 0.0000e+00 2.0000e+00 0.0000e+00 2.0000e+00 3.0000e+00\n",
      " 1.0000e+00 0.0000e+00 1.0000e+00 2.0000e+00 3.0000e+00 1.0000e+00\n",
      " 1.0000e+00 5.0000e+00 7.0000e+00 0.0000e+00 0.0000e+00 0.0000e+00\n",
      " 2.0000e+00 3.0000e+00 0.0000e+00 2.0000e+00 2.0000e+00 0.0000e+00\n",
      " 2.0000e+00 0.0000e+00 2.0000e+00 0.0000e+00 0.0000e+00 1.0000e+00\n",
      " 1.0000e+00 0.0000e+00 0.0000e+00 0.0000e+00 0.0000e+00 1.0000e+00\n",
      " 0.0000e+00 0.0000e+00]\n"
     ]
    }
   ],
   "source": [
    "x1, bins1, patch = plt.hist(f0_unpacked[2][0], bins=200, range=(0,15000))\n",
    "bins1 = bins1[:-1]\n",
    "plt.xlabel('channel number')\n",
    "plt.ylabel('events PMT 1')\n",
    "# ymax vorher 610\n",
    "plt.axis([0, 15000, 0, 4300])\n",
    "plt.grid(True)\n",
    "#plt.savefig('raw1.pdf')\n",
    "plt.show()\n",
    "\n",
    "x2, bins2, patch = plt.hist(f1_unpacked[2][0], bins=200, range=(0,15000))\n",
    "bins2 = bins2[:-1]\n",
    "plt.xlabel('channel number')\n",
    "plt.ylabel('events PMT 2')\n",
    "# ymax vorher 790\n",
    "plt.axis([0, 15000, 0, 4000])\n",
    "plt.grid(True)\n",
    "#plt.savefig('raw2.pdf')\n",
    "plt.show()\n",
    "\n",
    "print(x1)"
   ]
  },
  {
   "cell_type": "markdown",
   "metadata": {},
   "source": [
    "Write the histogrammed data to .csv files"
   ]
  },
  {
   "cell_type": "code",
   "execution_count": 9,
   "metadata": {},
   "outputs": [
    {
     "data": {
      "text/plain": [
       "1000"
      ]
     },
     "execution_count": 9,
     "metadata": {},
     "output_type": "execute_result"
    }
   ],
   "source": [
    "len(bins2)"
   ]
  },
  {
   "cell_type": "code",
   "execution_count": 16,
   "metadata": {},
   "outputs": [],
   "source": [
    "np.savetxt(\"vac_d2_400.csv\", np.transpose(np.array((bins2, x2))), delimiter=\",\", header=\"bins, counts\")"
   ]
  },
  {
   "cell_type": "code",
   "execution_count": 10,
   "metadata": {},
   "outputs": [],
   "source": [
    "np.savetxt(\"vac_d1_400.csv\", np.transpose(np.array((bins1, x1))), delimiter=\",\", header=\"bins, counts\")"
   ]
  },
  {
   "cell_type": "markdown",
   "metadata": {},
   "source": [
    "### TODO: calibration\n",
    "* energy = m*channel + b\n",
    "* fit the two photo-peaks in the Na-22 spectrum with a Gaussian shape (be careful, which are the right peaks)\n",
    "* from that, deduce the index channel number corresponding to 60% of the second photo-peak of the Co-60 spectrum\n",
    "* do this separately for both detectors"
   ]
  },
  {
   "cell_type": "code",
   "execution_count": 71,
   "metadata": {},
   "outputs": [],
   "source": [
    "#define a gauss function with a normalisation constant A, mean mu and std sigma\n",
    "def gauss(x,A,mu,std):\n",
    "    return A*np.exp(-(x-mu)**2/(2*std**2))"
   ]
  },
  {
   "cell_type": "markdown",
   "metadata": {},
   "source": [
    "This is a simple code block to fit a Gaussian to a part of the spectrum.\n",
    "\n",
    "It should be carefully read to understand what the code does and results of the fit should not be used without reading the documentation of the fitting function and all of its return values."
   ]
  },
  {
   "cell_type": "markdown",
   "metadata": {},
   "source": [
    "### Detector 1"
   ]
  },
  {
   "cell_type": "code",
   "execution_count": 77,
   "metadata": {},
   "outputs": [
    {
     "name": "stdout",
     "output_type": "stream",
     "text": [
      "### First Peak\n",
      "A = 4292.5 +- 31.6\n",
      "mu = 3876.2  +- 1.7\n",
      "std = 202.2 +- 1.9\n",
      "\n",
      "### Second Peak\n",
      "A = 394.3 +- 9.7\n",
      "mu = 9458.3 +- 9.1\n",
      "std = -310.1 +- 11.4\n"
     ]
    },
    {
     "data": {
      "image/png": "[encoded data removed]",
      "text/plain": [
       "<Figure size 864x504 with 1 Axes>"
      ]
     },
     "metadata": {
      "needs_background": "light"
     },
     "output_type": "display_data"
    }
   ],
   "source": [
    "#define a fit range\n",
    "n_start_1, n_stop_1 = int(3550/75),int(4300/75) \n",
    "n_start_2, n_stop_2 = int(9000/75),int(10000/75)\n",
    "\n",
    "sample_x_1 = bins1[n_start_1:n_stop_1]\n",
    "sample_y_1 = x1[n_start_1:n_stop_1]\n",
    "sample_x_2 = bins1[n_start_2:n_stop_2]\n",
    "sample_y_2 = x1[n_start_2:n_stop_2]\n",
    "\n",
    "plt.figure(figsize=(12,7))\n",
    "plt.plot(bins1[10:,],x1[10:,])\n",
    "plt.plot(sample_x_1,sample_y_1)\n",
    "plt.plot(sample_x_2,sample_y_2)\n",
    "\n",
    "#make initial choice for fitting parameters wisely\n",
    "param_1 = [60,4000,150]\n",
    "param_2 = [8,9600,100]\n",
    "\n",
    "fit_result_1 = opt.curve_fit(gauss, sample_x_1, sample_y_1, param_1)\n",
    "fit_result_2 = opt.curve_fit(gauss, sample_x_2, sample_y_2, param_2)\n",
    "\n",
    "print(\"### First Peak\")\n",
    "print(f\"A = {str(round(fit_result_1[0][0],1))} +- {str(round(np.sqrt(fit_result_1[1][0][0]),1))}\")\n",
    "print(f\"mu = {str(round(fit_result_1[0][1],1))}  +- {str(round(np.sqrt(fit_result_1[1][1][1]),1))}\")\n",
    "print(f\"std = {str(round(fit_result_1[0][2],1))} +- {str(round(np.sqrt(fit_result_1[1][2][2]),1))}\")\n",
    "print(\"\")\n",
    "print(\"### Second Peak\")\n",
    "print(f\"A = {str(round(fit_result_2[0][0],1))} +- {str(round(np.sqrt(fit_result_2[1][0][0]),1))}\")\n",
    "print(f\"mu = {str(round(fit_result_2[0][1],1))} +- {str(round(np.sqrt(fit_result_2[1][1][1]),1))}\")\n",
    "print(f\"std = {str(round(fit_result_2[0][2],1))} +- {str(round(np.sqrt(fit_result_2[1][2][2]),1))}\")\n",
    "\n",
    "fit_y_1 = [gauss(x,fit_result_1[0][0],fit_result_1[0][1],fit_result_1[0][2]) for x in sample_x_1]\n",
    "fit_y_2 = [gauss(x,fit_result_2[0][0],fit_result_2[0][1],fit_result_2[0][2]) for x in sample_x_2]\n",
    "\n",
    "plt.plot(sample_x_1, fit_y_1, label='gaussian fit for peak 1')\n",
    "plt.plot(sample_x_2, fit_y_2, label='gaussian fit for peak 2')\n",
    "plt.legend()\n",
    "plt.xlabel('channel number')\n",
    "plt.ylabel('events PMT 1')\n",
    "\n",
    "#plt.axis([0, 0, 0, 0])\n",
    "#plt.savefig(\"fit1.pdf\")\n",
    "plt.show()"
   ]
  },
  {
   "cell_type": "markdown",
   "metadata": {},
   "source": [
    "### Detector 2"
   ]
  },
  {
   "cell_type": "code",
   "execution_count": 13,
   "metadata": {},
   "outputs": [
    {
     "name": "stdout",
     "output_type": "stream",
     "text": [
      "### First Peak\n",
      "A = 79.4 +- 8.3\n",
      "mu = 3776.3  +- 95.5\n",
      "std = 200.6 +- 91.2\n",
      "\n",
      "### Second Peak\n",
      "A = 6.1 +- 0.8\n",
      "mu = 9122.7 +- 227.5\n",
      "std = 324.0 +- 275.2\n"
     ]
    },
    {
     "data": {
      "image/png": "[encoded data removed]",
      "text/plain": [
       "<Figure size 864x504 with 1 Axes>"
      ]
     },
     "metadata": {
      "needs_background": "light"
     },
     "output_type": "display_data"
    }
   ],
   "source": [
    "n_start_3, n_stop_3 = int(/15),int(/15) \n",
    "n_start_4, n_stop_4 = int(/15),int(/15)\n",
    "\n",
    "sample_x_3 = bins2[n_start_3:n_stop_3]\n",
    "sample_y_3 = x2[n_start_3:n_stop_3]\n",
    "sample_x_4 = bins2[n_start_4:n_stop_4]\n",
    "sample_y_4 = x2[n_start_4:n_stop_4]\n",
    "\n",
    "plt.figure(figsize=(12,7))\n",
    "plt.plot(bins2[10:,],x2[10:,])\n",
    "plt.plot(sample_x_3,sample_y_3)\n",
    "plt.plot(sample_x_4,sample_y_4)\n",
    "\n",
    "param_3 = [60,3900,150]\n",
    "param_4 = [8,9000,100]\n",
    "\n",
    "fit_result_3 = opt.curve_fit(gauss, sample_x_3, sample_y_3, param_3)\n",
    "fit_result_4 = opt.curve_fit(gauss, sample_x_4, sample_y_4, param_4)\n",
    "\n",
    "print(\"### First Peak\")\n",
    "print(f\"A = {str(round(fit_result_3[0][0],1))} +- {str(round(np.sqrt(fit_result_3[1][0][0]),1))}\")\n",
    "print(f\"mu = {str(round(fit_result_3[0][1],1))}  +- {str(round(np.sqrt(fit_result_3[1][1][1]),1))}\")\n",
    "print(f\"std = {str(round(fit_result_3[0][2],1))} +- {str(round(np.sqrt(fit_result_3[1][2][2]),1))}\")\n",
    "print(\"\")\n",
    "print(\"### Second Peak\")\n",
    "print(f\"A = {str(round(fit_result_4[0][0],1))} +- {str(round(np.sqrt(fit_result_4[1][0][0]),1))}\")\n",
    "print(f\"mu = {str(round(fit_result_4[0][1],1))} +- {str(round(np.sqrt(fit_result_4[1][1][1]),1))}\")\n",
    "print(f\"std = {str(round(fit_result_4[0][2],1))} +- {str(round(np.sqrt(fit_result_4[1][2][2]),1))}\")\n",
    "\n",
    "fit_y_3 = [gauss(x,fit_result_3[0][0],fit_result_3[0][1],fit_result_3[0][2]) for x in sample_x_3]\n",
    "fit_y_4 = [gauss(x,fit_result_4[0][0],fit_result_4[0][1],fit_result_4[0][2]) for x in sample_x_4]\n",
    "\n",
    "plt.plot(sample_x_3, fit_y_3, label='gaussian fit for peak 1')\n",
    "plt.plot(sample_x_4, fit_y_4, label='gaussian fit for peak 2')\n",
    "plt.legend()\n",
    "plt.xlabel('channel number')\n",
    "plt.ylabel('events PMT 2')\n",
    "\n",
    "#plt.axis([0, 0, 0, 0])\n",
    "plt.savefig(\"fit2.pdf\")\n",
    "plt.show()"
   ]
  },
  {
   "cell_type": "markdown",
   "metadata": {},
   "source": [
    "### Do the energy calibration to determine the 60% (maybe higher is better?) threshold"
   ]
  },
  {
   "cell_type": "markdown",
   "metadata": {},
   "source": [
    "using E = m*channel + b"
   ]
  },
  {
   "cell_type": "code",
   "execution_count": 14,
   "metadata": {},
   "outputs": [
    {
     "name": "stdout",
     "output_type": "stream",
     "text": [
      "m1 = 0.000134 MeV/channel\n",
      "b1 = -0.0276 MeV\n",
      "60% of the second peak's energy equals to channel number 6171.0240008938745\n",
      "\n",
      "m2 = 0.0001429 MeV/channel\n",
      "b2 = -0.0286 MeV\n",
      "60% of the second peak's energy equals to channel number 5793.05828751265\n"
     ]
    }
   ],
   "source": [
    "channel_peak_1 = fit_result_1[0][1]\n",
    "channel_peak_2 = fit_result_2[0][1]\n",
    "\n",
    "E_1, E_2 = 0.511, 1.275 #Energies in MeV for Na-22\n",
    "\n",
    "E_Co = 1.332 #Energy in MeV of the second photo-peak of Co-60\n",
    "\n",
    "m1 = (E_2 - E_1)/(channel_peak_2 - channel_peak_1)\n",
    "b1 = (channel_peak_2 * E_1 - channel_peak_1 * E_2)/(channel_peak_2 - channel_peak_1)\n",
    "\n",
    "print(f\"m1 = {round(m1,7)} MeV/channel\")\n",
    "print(f\"b1 = {round(b1,4)} MeV\")\n",
    "\n",
    "ch_threshold1 = (0.6 * E_Co - b1)/m1\n",
    "\n",
    "print(f\"60% of the second peak's energy equals to channel number {ch_threshold1}\")\n",
    "print()\n",
    "\n",
    "channel_peak_3 = fit_result_3[0][1]\n",
    "channel_peak_4 = fit_result_4[0][1]\n",
    "\n",
    "m2 = (E_2 - E_1)/(channel_peak_4 - channel_peak_3)\n",
    "b2 = (channel_peak_4 * E_1 - channel_peak_3 * E_2)/(channel_peak_4 - channel_peak_3)\n",
    "\n",
    "print(f\"m2 = {round(m2,7)} MeV/channel\")\n",
    "print(f\"b2 = {round(b2,4)} MeV\")\n",
    "\n",
    "ch_threshold2 = (0.6 * E_Co - b2)/m2\n",
    "\n",
    "print(f\"60% of the second peak's energy equals to channel number {ch_threshold2}\")"
   ]
  },
  {
   "cell_type": "markdown",
   "metadata": {},
   "source": [
    "### Search for coincidences in the Co-60 data"
   ]
  },
  {
   "cell_type": "code",
   "execution_count": 17,
   "metadata": {
    "scrolled": true
   },
   "outputs": [
    {
     "name": "stdout",
     "output_type": "stream",
     "text": [
      "9678 9678 9678\n",
      "Number of events PMT 0:      1355\n",
      "Number of events PMT 1:      1210\n",
      "Number of coincident events: 0\n"
     ]
    }
   ],
   "source": [
    "print(len(xList1), len(tDAQ1), len(tDAQ1)) #to avoid further errors\n",
    "\n",
    "coinc1, eCoinc1, tCoinc1 = [], [], []\n",
    "coinc2, eCoinc2, tCoinc2 = [], [], []\n",
    "dtCoinc, eSum = [], []\n",
    "\n",
    "if len(xList1) != len(xList2):\n",
    "    print(\"Warning: different event numbers\")\n",
    "\n",
    "for i in range(len(xList1)):\n",
    "    if tDAQ1[i] != tDAQ2[i]:\n",
    "        print(\"different times in event \",i)\n",
    "\n",
    "    # uncomment the following line to calculate random coincidences\n",
    "    #if abs(tList1[i] - tList2[i]) > 200 and abs(tList1[i] - tList2[i]) < 400 and xList1[i]>int(ch_threshold1) and xList2[i]>int(ch_threshold2):\n",
    "    if abs(tList1[i] - tList2[i]) < 100 and xList1[i]>int(ch_threshold1) and xList2[i]>int(ch_threshold2):\n",
    "        \n",
    "        coinc1.append(eventList1[i]) \n",
    "        eCoinc1.append(xList1[i]) \n",
    "        tCoinc1.append(tList1[i])\n",
    "        \n",
    "        coinc2.append(eventList2[i])\n",
    "        eCoinc2.append(xList2[i]) \n",
    "        tCoinc2.append(tList2[i])\n",
    "        \n",
    "        dtCoinc.append(tList1[i]-tList2[i])\n",
    "        eSum.append(xList1[i]+xList2[i])\n",
    "\n",
    "nCoinc = len(eCoinc1)\n",
    "\n",
    "n1 = len([x for x in xList1 if x>int(ch_threshold1)]) # total number of events above the threshold\n",
    "n2 = len([x for x in xList2 if x>int(ch_threshold2)])\n",
    "\n",
    "print(f\"Number of events PMT 0:      {n1}\")\n",
    "print(f\"Number of events PMT 1:      {n2}\")\n",
    "print(f\"Number of coincident events: {nCoinc}\")"
   ]
  },
  {
   "cell_type": "markdown",
   "metadata": {},
   "source": [
    "### Resolving coincidence time"
   ]
  },
  {
   "cell_type": "code",
   "execution_count": 18,
   "metadata": {},
   "outputs": [
    {
     "data": {
      "image/png": "[encoded data removed]",
      "text/plain": [
       "<Figure size 432x288 with 1 Axes>"
      ]
     },
     "metadata": {
      "needs_background": "light"
     },
     "output_type": "display_data"
    }
   ],
   "source": [
    "plt.hist(dtCoinc, bins=20, range=(-200,200))\n",
    "#plt.axis([-0, 0, 0, 0])\n",
    "plt.grid(True)\n",
    "plt.xlabel(\"t in ns\")\n",
    "plt.ylabel(\"number of coincident events\")\n",
    "plt.savefig(\"hist_coin_time.pdf\")\n",
    "plt.show()"
   ]
  },
  {
   "cell_type": "code",
   "execution_count": null,
   "metadata": {},
   "outputs": [],
   "source": []
  },
  {
   "cell_type": "code",
   "execution_count": null,
   "metadata": {},
   "outputs": [],
   "source": []
  }
 ],
 "metadata": {
  "kernelspec": {
   "display_name": "Python 3",
   "language": "python",
   "name": "python3"
  },
  "language_info": {
   "codemirror_mode": {
    "name": "ipython",
    "version": 3
   },
   "file_extension": ".py",
   "mimetype": "text/x-python",
   "name": "python",
   "nbconvert_exporter": "python",
   "pygments_lexer": "ipython3",
   "version": "3.8.10"
  },
  "vscode": {
   "interpreter": {
    "hash": "173db63227f51925f660cdc6d1fc2c10fca1d436a963ca4f00fa92d66911f64a"
   }
  }
 },
 "nbformat": 4,
 "nbformat_minor": 4
}
